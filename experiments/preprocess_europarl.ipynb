{
 "cells": [
  {
   "cell_type": "code",
   "execution_count": 11,
   "metadata": {},
   "outputs": [],
   "source": [
    "import os\n",
    "import re\n",
    "from lxml import etree\n",
    "import json\n",
    "import pathlib"
   ]
  },
  {
   "cell_type": "code",
   "execution_count": 12,
   "metadata": {},
   "outputs": [],
   "source": [
    "def read_data_from_files(data_path):\n",
    "    transcripts = {}\n",
    "    minutes = {}\n",
    "    data_folders = [os.path.basename(x[0]) for x in os.walk(data_path) if len(os.path.basename(x[0])) > 0]\n",
    "    for directory in data_folders:\n",
    "        for file_name in os.listdir(data_path + directory):\n",
    "            file_path = data_path + directory + '/' + file_name\n",
    "            with open(file_path, \"r\") as f:\n",
    "                if 'ep' in file_name:\n",
    "                    date = re.search('ep-(.+?).txt', file_name)[1]\n",
    "                    transcripts[date] = f.readlines()\n",
    "                if 'min' in file_name:\n",
    "                    date = re.search('min-(.+?).txt', file_name)[1]\n",
    "                    minutes[date] = f.read()\n",
    "    return transcripts, minutes\n",
    "\n"
   ]
  },
  {
   "cell_type": "code",
   "execution_count": 13,
   "metadata": {},
   "outputs": [],
   "source": [
    "def preprocess_transcripts(transcripts):\n",
    "    preprocessed_transcripts = {}\n",
    "    for key, value in transcripts.items():\n",
    "        speaker_dialog = []\n",
    "        value = [line.replace('<P>', '').replace('\\xa0', ' ').replace('\\n', '') for line in value]\n",
    "        speaker_details = {index: tag for index, tag in enumerate(value) if 'SPEAKER' in tag}\n",
    "        speaker_tag_indexes = list(speaker_details.keys())\n",
    "        for i in range(len(speaker_tag_indexes)):\n",
    "            current_index = speaker_tag_indexes[i]\n",
    "            next_speaker_index = speaker_tag_indexes[i+1] if i+1 < len(speaker_tag_indexes) else None\n",
    "            end_tag = '</SPEAKER>' if '/>' not in speaker_details[current_index] else ''\n",
    "            speaker_id = etree.fromstring(speaker_details[current_index]+end_tag).attrib['ID']\n",
    "            speaker_dialog.append('PERSON' + speaker_id + ' : ' + ''.join(value[current_index+1: next_speaker_index]))\n",
    "        preprocessed_transcripts[key] = '\\n'.join(speaker_dialog)\n",
    "    return preprocessed_transcripts"
   ]
  },
  {
   "cell_type": "code",
   "execution_count": 16,
   "metadata": {},
   "outputs": [],
   "source": [
    "def save_preprocessed_data(file_path, preprocessed_transcripts, minutes, test=False):\n",
    "    preprocessed_dataset = []\n",
    "    for key, value in preprocessed_transcripts.items():\n",
    "        transcript = value\n",
    "        if test:\n",
    "            preprocessed_dataset.append({\n",
    "            'transcript': transcript,\n",
    "            'minutes': ''\n",
    "        })\n",
    "        else:\n",
    "            minute = minutes[key]\n",
    "            preprocessed_dataset.append({\n",
    "                'transcript': transcript,\n",
    "                'minutes': minute\n",
    "            })\n",
    "    with open(file_path, 'w') as f:\n",
    "        json.dump(preprocessed_dataset, f, indent=\"\")"
   ]
  },
  {
   "cell_type": "code",
   "execution_count": 8,
   "metadata": {},
   "outputs": [],
   "source": [
    "def preprocess_dataset(dataset_path, preprocessed_file_path, test=False):\n",
    "    transcripts, minutes = read_data_from_files(dataset_path)\n",
    "    preprocessed_transcripts =  preprocess_transcripts(transcripts)\n",
    "    save_preprocessed_data(preprocessed_file_path, preprocessed_transcripts, minutes, test)"
   ]
  },
  {
   "cell_type": "code",
   "execution_count": 9,
   "metadata": {},
   "outputs": [],
   "source": [
    "train_data_path = '../datasets/europarlmin/train/'\n",
    "dev_data_path = '../datasets/europarlmin/dev/'\n",
    "test_data_path = '../datasets/automin-2023-data/Europarlmin/test1/'\n",
    "\n",
    "\n",
    "train_preprocess_file_path = '../preprocessed_data/europarl_transcripts_preprocessed_train.json'\n",
    "dev_preprocess_file_path = '../preprocessed_data/europarl_transcripts_preprocessed_dev.json'\n",
    "test_preprocess_file_path = '../preprocessed_data/europarl_transcripts_preprocessed_test.json'\n"
   ]
  },
  {
   "cell_type": "code",
   "execution_count": 38,
   "metadata": {},
   "outputs": [],
   "source": [
    "preprocess_dataset(train_data_path, train_preprocess_file_path)"
   ]
  },
  {
   "cell_type": "code",
   "execution_count": 13,
   "metadata": {},
   "outputs": [],
   "source": [
    "preprocess_dataset(dev_data_path, dev_preprocess_file_path)\n"
   ]
  },
  {
   "cell_type": "code",
   "execution_count": 17,
   "metadata": {},
   "outputs": [],
   "source": [
    "preprocess_dataset(test_data_path, test_preprocess_file_path, test=True)"
   ]
  }
 ],
 "metadata": {
  "kernelspec": {
   "display_name": "venv",
   "language": "python",
   "name": "python3"
  },
  "language_info": {
   "codemirror_mode": {
    "name": "ipython",
    "version": 3
   },
   "file_extension": ".py",
   "mimetype": "text/x-python",
   "name": "python",
   "nbconvert_exporter": "python",
   "pygments_lexer": "ipython3",
   "version": "3.10.6"
  },
  "orig_nbformat": 4
 },
 "nbformat": 4,
 "nbformat_minor": 2
}
