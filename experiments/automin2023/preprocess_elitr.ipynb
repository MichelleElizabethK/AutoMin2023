{
 "cells": [
  {
   "cell_type": "code",
   "execution_count": 233,
   "metadata": {
    "collapsed": true
   },
   "outputs": [],
   "source": [
    "import os\n",
    "import glob\n",
    "import re\n",
    "import json\n",
    "from nltk.tokenize import RegexpTokenizer\n",
    "\n",
    "OUTPUT_DIR = \"preprocessed_data\"\n",
    "\n",
    "ELITR_DIR = \"../../datasets/ELITR Minuting Corpus/ELITR-minuting-corpus\"\n",
    "ELITR_EN_DIR = \"elitr-minuting-corpus-en\"\n",
    "ELITR_CS_DIR = \"elitr-minuting-corpus-cs\"\n",
    "\n",
    "TRAIN_DIR = \"train\"\n",
    "DEV_DIR = \"dev\"\n",
    "TEST_DIR = \"test\"\n",
    "TEST2_DIR = \"test2\""
   ]
  },
  {
   "cell_type": "code",
   "execution_count": 234,
   "outputs": [],
   "source": [
    "def read_transcripts(meetings_dir):\n",
    "    transcripts = {}\n",
    "\n",
    "    for meeting_id in sorted(os.listdir(meetings_dir)):\n",
    "        meeting_dir = os.path.join(meetings_dir, meeting_id)\n",
    "        transcript_file = glob.glob(os.path.join(meeting_dir, \"transcript_*.txt\"))[0]\n",
    "\n",
    "        with open(transcript_file, \"r\") as f:\n",
    "            transcript = f.read().splitlines()\n",
    "            transcripts[meeting_id] = transcript\n",
    "\n",
    "    return transcripts"
   ],
   "metadata": {
    "collapsed": false,
    "pycharm": {
     "name": "#%%\n"
    }
   }
  },
  {
   "cell_type": "code",
   "execution_count": 235,
   "outputs": [],
   "source": [
    "cs_train = read_transcripts(os.path.join(ELITR_DIR, ELITR_CS_DIR, TRAIN_DIR))\n",
    "cs_dev = read_transcripts(os.path.join(ELITR_DIR, ELITR_CS_DIR, DEV_DIR))\n",
    "cs_test = read_transcripts(os.path.join(ELITR_DIR, ELITR_CS_DIR, TEST_DIR))\n",
    "cs_test2 = read_transcripts(os.path.join(ELITR_DIR, ELITR_CS_DIR, TEST2_DIR))\n",
    "\n",
    "en_train = read_transcripts(os.path.join(ELITR_DIR, ELITR_EN_DIR, TRAIN_DIR))\n",
    "en_dev = read_transcripts(os.path.join(ELITR_DIR, ELITR_EN_DIR, DEV_DIR))\n",
    "en_test = read_transcripts(os.path.join(ELITR_DIR, ELITR_EN_DIR, TEST_DIR))\n",
    "en_test2 = read_transcripts(os.path.join(ELITR_DIR, ELITR_EN_DIR, TEST2_DIR))"
   ],
   "metadata": {
    "collapsed": false,
    "pycharm": {
     "name": "#%%\n"
    }
   }
  },
  {
   "cell_type": "code",
   "execution_count": 236,
   "outputs": [
    {
     "data": {
      "text/plain": "['<other_noise/>',\n '(PERSON2) Já jenom technickou -',\n '<other_noise/>',\n 'Prosím, když zrovna nemluvíte, vypněte si mikrofony.',\n '<other_noise/>',\n 'Děkuju.',\n '<other_noise/>',\n 'Tak já vás vítám.',\n 'Já myslím, že za chvíli se k nám přidá [PERSON12].',\n 'Já vás ráda vidím aspoň takhle.',\n 'Eh, někoho jsem potkala i v kanceláři.',\n 'Dneska vodpoledne se tam mihnu, protože z úterý se posunulo podepisování snad na dnešek.',\n 'Zato, eh, i [PERSON12] tam přesunul všechny spisy, který jsme mu nasypali do pondělka.',\n 'Takže tam u pana -',\n '<other_noise/>',\n 'ředitele visí asi snad 70 spisů, tak já doufám, že se podaří to dneska podepsat.',\n '<other_noise/>',\n 'Protože jak víte, všichni vám volaj a ptaj se a není to náš problém, prostě to visí někde úplně jinde.',\n 'Ahoj, [PERSON12].',\n '(PERSON12) Ahoj.',\n '(PERSON2) Teďka jsme začali.',\n '<other_noise/>',\n 'Ahoj.',\n 'Eh, o nic jsme -',\n '<other_noise/>',\n 'O nic jsi nepřišel.',\n 'Chtěla jsem -',\n '(PERSON12) Já jenom poprosím [PERSON3], kdyby to pak dávala do těch, eh, do těla toho, té události, hm, v kalendáři.',\n 'Než jenom to posílat, ten link.',\n '(PERSON3) Ano, dobře.',\n '(PERSON12) Jo, děkuju.',\n '(PERSON2) Jo, to, to potom dořešíme.',\n '(PERSON12) Protože pak set-',\n 'Já to pak, než to najdu.',\n '<other_noise/>',\n 'Hm.',\n 'Tak děkuju',\n '(PERSON2) Eh, chtěla jsem poděkovat [PERSON37] a [PERSON36] za prezentaci k, eh, k [PROJECT1] -',\n '<other_noise/>',\n '[PROJECT1].',\n 'To je velká práce, protože je tam souhrn všech akcí, který se v tom území dějou a, a opravdu bude nelehký to rozplíst.',\n 'A asi nás dobře reprezentovali, tak za to moc děkuju.',\n 'Eh -',\n 'Pak jsem chtěla poprosit, že teďko budeme muset velmi rychle vypsat [PROJECT21] a napsat, eh, zadání pro [PROJECT2].',\n 'Eh, takže, eh -',\n '<other_noise/>',\n 'Prostě mysleli jsme si, že na to nebudou finance, a že se to bude muset nějak, eh, jako řešit jinak.',\n 'Ale toto se teďko vyřešilo, takže na tom můžeme, a dokonce musíme, hned začít pracovat.',\n 'Stejně tak, eh, na [PROJECT20], eh, ještě letos bysme měli teda najít zhos-, zhotovitele na dopravní řešení.',\n 'A to se potom poradíme na naší pracovní skupině na [PROJECT20] -',\n '<other_noise/>',\n 'Abysme to rychle vypsali.',\n '<other_noise/>',\n 'Eh -',\n 'Připojím k dnešnímu zápisu nabídku na školení, to jste možná vod [PERSON27], hm, dostali taky.',\n 'A [PERSON3] na to připravila tabulku, kde se, prosím vás, eh, přihlašte nebo vyplňte, co byste rádi absolvovali, a co ne.',\n 'Takže bude to dneska u zápisu.',\n 'Eh -',\n 'Informace z [ORGANIZATION15], že právní oddělení pracuje kompletně z domova.',\n 'Takže když od nich budete něco potřebovat, tak, eh, jim napište mail.',\n 'Nebo kdo má, eh, pf, eh, mobilní telefony, tak jim můžete volat.',\n '<other_noise/>',\n 'Dneska s-, [PERSON6] odhalila, že ještě na některejch, eh, stránkách [ORGANIZATION15] jsou špatný telefonní čísla.',\n 'Tak to [PERSON3] se snaží napravit, abysme byli, eh, přístupný veřejnosti a snad se to podaří.',\n 'Děkuju, [PERSON3], že -',\n '<laugh/>',\n 'jsi to popohnala teda.',\n 'Eh -',\n 'Ještě budeme muset teďko na tu online, eh, práci zařídit, eh, digitální podpisy.',\n 'Eh, nějak jsme -',\n '<other_noise/>',\n 's [PERSON12] říkali, že by to měl mít ještě [PERSON36], eh, [PERSON37] a [PERSON6].',\n 'Protože když třeba bude nějaký výběrový řízení na dodavatele, tak i to bude probíhat online a bude potřeba to podepsat.',\n 'Takže, eh, možná, eh, [PERSON3], [PERSON24] -',\n '<other_noise/>',\n 'Eh, se [PERSON33] -',\n '<other_noise/>',\n 'Nebo já nevím, -',\n '<other_noise/>',\n 'jestli se vo to žádá, eh, <unintelligible/> -',\n '(PERSON12) Ne, [PERSON33] to, eh, žádala pro [ORGANIZATION20] -',\n '(PERSON2) [PERSON33], jo?',\n '(PERSON12) Takže vám po-, poradí.',\n '(PERSON2) Jo.',\n 'Tak prosím-',\n '(PERSON12) Dobře?',\n '[PERSON7]-',\n 'To myslím, že je jed-, jednoduché.',\n 'Tam se pošle jenom žádost a ajťáci to vygenerují, a pak, pak jenom -',\n '(PERSON2) Pak se s tím musí na poštu, no.',\n '(PERSON12) Na poštu možná, no.',\n '(PERSON2) No, no, no.',\n '(PERSON12) Pro ten certifikát.',\n '(PERSON2) Tak to, to -',\n 'Todleto jsem vás -',\n '<other_yawn/>',\n 'chtěla poprosit, abyste si zařídili.',\n '<other_noise/>',\n 'Eh, tento čtvrtek na zastupitelstvu bude asi jmenován pan [PERSON10], eh, do, [ORGANIZATION28].',\n '<other_noise/>',\n 'Takže -',\n '(PERSON12) Ne, ne, [PERSON2], eh, eh -',\n '<other_noise/>',\n '[ORGANIZATION13] -',\n 'Do pražský -',\n '(PERSON2) R-, [ORGANIZATION13].',\n '(PERSON12) [ORGANIZATION29], to je.',\n '[ORGANIZATION29].',\n '[ORGANIZATION29] má zkratku.',\n '(PERSON2) <unintelligible/> -',\n '(PERSON12) [ORGANIZATION29] -',\n '<other_noise/>',\n '[ORGANIZATION29].',\n '<other_noise/>',\n '<other_yawn/>',\n '<other_noise/>',\n '(PERSON2) Takže už se na ně <unintelligible/>-',\n '(PERSON12) A další zkratka do našich [ORGANIZATION31] a -',\n '<laugh/>',\n 'A [ORGANIZATION16].',\n '<laugh/>',\n '(PERSON2) Tak.',\n 'Eh -',\n 'Podle, eh, s-, [ORGANIZATION17], kdo ji v pátek poslouchal, tak, eh, pochopil, že se bude zadávat ideová architektonicko-urbanistická soutěž na [PROJECT23].',\n 'Eh, to už, eh, [PERSON31] kontaktovali stratégové, jsem si všimla.',\n 'Eh -',\n '<other_noise/>',\n 'Takže jí s tím pomůžeme.',\n 'Bude to taková asi hodně ideová, eh, soutěž, protože jak bylo v pátek slyšet, tak je na to spoustu různejch názorů, jako široká plejáda.',\n 'Bylo to velmi zajímavý, teda, kdo to sledoval.',\n 'Stejně tak bylo velmi zajímavý včera, eh, ten workshop ohledně [PROJECT13].',\n 'To asi taky někdo z vás byl připojenej.',\n 'Kde se objevovaly teda, eh, vopravdu velmi širokej, eh, názorovej nějakej, názorový spektrum.',\n 'Což bylo zajímavý.',\n '<unintelligible/> od velmi vizionářskejch jako představ a projektů až k takovejm jako konkrétním.',\n 'Eh, myslím, že to bylo užitečný a takový, eh -',\n 'Jako zase pohledy ú-, z úplně jiný strany, než my jsme zvyklí -',\n '<other_yawn/>',\n 'Na ty jednotlivý konkrétní domy.',\n 'Tak tady to bylo takový jako velkorysý, no.',\n 'Eh -',\n 'Bude na to teda taky ta soutěž, eh, na který my budeme možná nějak, eh, eh -',\n '[PERSON37] s [PERSON36] aspoň poskytovat naše podklady nebo to, co vo tom území víme.',\n 'Eh -',\n '<other_noise/>',\n 'Já možná trošičku tady přeskakuju, protože jsem si psala spoustu poznámek k dnešku.',\n 'Eh, [PROJECT17], eh, [PERSON36], to je na tvým území.',\n 'Eh, hledá se nějakej kompromis, eh, mezi teda projektantem a, eh, památkáři.',\n 'Eh, památkáři již na tomto náměstí hodně ustoupili, ale projektant má ještě nějaký další představy a bude to asi hodně řešit [PERSON20].',\n 'Tak jenom -',\n 'Má to nějakej posun, jo?',\n 'Kdyby jsi potřeboval něco vědět nebo oni od tebe něco, tak že konkrétně s nima.',\n 'Stejně tak [PROJECT8], eh, [PERSON28] jednal s genera-, s generálním štábem o zástavce tramvaje před tím, před vojákama, ale zatím nevíme výsledky, jo?',\n 'Možná, že -',\n 'Ty se to, [PERSON31], dozvíš na nějaký -',\n '<other_noise/>',\n 'Eh, lokální poradě.',\n '<other_noise/>',\n 'Tak koukám, že není připojenej [PERSON23], tak já se ho potom zeptám na tu [PROJECT18].',\n '[PERSON37], náhodou nekonzultovali jste to spolu, ne-, nevíš, -',\n '(PERSON37) Eh, no -',\n '(PERSON2) jestli na tom pracuje?',\n '(PERSON37) Jo.',\n 'Já jsem ti psala mail nebo smsku, jestli bys mi k tomu mohla říct víc informací.',\n 'Já k tomu nic nevím a [PERSON23] vůbec nic neříkal.',\n 'A dneska -',\n '(PERSON2) Jo.',\n '(PERSON37) mi právě volal, před chviličkou, znova ten pan [PERSON38] -',\n '(PERSON2) Jo.',\n '(PERSON37) S tím, že byl na mě odkázanej, a že se chce ch-, že se chce domluvit.',\n 'Ale já vlastně pořád nevím, jaká je teď situace, a co my máme připravovat za podklad konkrétně.',\n 'Tak jestli -',\n '(PERSON12) Tak já do toho -',\n '<other_noise/>',\n 'vstoupím.',\n '<other_noise/>',\n 'Eh, já to jsem -',\n '<other_noise/>',\n 'od něho s-, mluvil jenom telefonicky s ním.',\n '<other_noise/>',\n 'Protože jsme to řešili v době, kdy -',\n '<other_noise/>',\n 'jsme byli v té dobrovolné izolaci.',\n '<other_noise/>',\n 'Jemu slíbili studii proveditelnosti.',\n '<other_noise/>',\n 'Jo?',\n '<other_noise/>',\n 'A studie proveditelnosti je velmi, kdyby měla být jako, hm, pořádně udělaná, tak velmi obsáhlá.',\n '<other_noise/>',\n 'Eh -',\n 'Na [ORGANIZATION15] jsme domluvení tak, že uděláme v podstatě o-, o-, ob-, na-, nastavíme objemy, jaké za nás by byly přijatelné do toho území.',\n 'A zároveň zakomponujeme do toho [PROJECT18], na kterou by se pravděpodobně muselo nastoupat výtahem a schodištěm evakuačním, eh, z úrovně Karlína do nějaké úrovně, která pak přes lávku překoná, eh, železniční trať a dostane se na, eh, do vyšších pater, vlastně -',\n '<other_noise/>',\n 'Vítkova.',\n 'A -',\n '<other_noise/>',\n 'jemu přislíbili nějakou společnou ps-, spolupráci kolegové, jako jak [PERSON32], tak [PERSON28].',\n 'Ale ře-, to bylo na konci léta, ale nikdo už nám nedal tendleten úkol, jo?',\n 'Se k nám nedostal.',\n '<other_noise/>',\n 'Zřejmě proto, že to bylo u [PERSON32].',\n '<other_noise/>',\n 'A to už nemá smysl teď řešit.',\n 'Oni spolupracují s, eh, [ORGANIZATION21], která by tam ideálně měla mít i sídlo.',\n '<other_noise/>',\n 'Já jsem slíbil, že co nejdříve připravíme, eh, za nás představu, jaké jsou vlastně, de facto, limity zástavby pro to území, nebo optimální z pohledu města.',\n 'A, hm, představa toho investora je, že -',\n '<other_noise/>',\n 'to mu pomůže -',\n '<other_noise/>',\n 'to mu pomůže, eh, nějak jako i s tím jeho projektem.',\n 'A on oslovil architekta [PERSON25], což je konzultant pro ně, jako pro investora.',\n '<other_noise/>',\n 'Který se zabýval vlastně těmi inf-, eh, těmi věcmi -',\n '<other_noise/>',\n 'eh, i ve vztahu k [ORGANIZATION25] pak.',\n 'Eh, tam si myslím, že je potřeba okonz-, eh, od-, odkonzultovat to u nás.',\n '<other_yawn/>',\n 'Jaká je představa dopráváků, jestli jako cyklo ano, nebo ne.',\n 'A když ano, tak, co to znamená pro tu lávku, pro nějaké její parametry.',\n 'A, eh, mně-, ono to prý navazuje na tu studii [PROJECT22] z roku 2016.',\n '<other_noise/>',\n 'Že tam byly zmiňované tři místa, a že todle je jedno z nich.',\n 'To mi říkal ten investor, já jsem se na tu revitalizaci takhle nedíval, do podrobna.',\n 'A, eh, [ORGANIZATION23] to taky podporuje.',\n 'Takže jenom za nás je potřeba připravit nějaké vlastně parametry, které by měly být -',\n '<other_noise/>',\n 'A, a potom, až to budeme mít, -',\n '<other_noise/>',\n 'tak my máme nasmluvněného v [ORGANIZATION20] rozpočtáře a ten -',\n '<other_noise/>',\n 'Ten prostě dodá nahrubo, hm, kolik by stála ta lávka s tou vertikální komunikací.',\n 'No a pak jsem mu říkal, že by samozřejmě měl -',\n '<other_noise/>',\n 'Hm, měl si připravovat tisk, eh, aby to někdo dostal jako úkol.',\n 'Anebo aspoň minimálně nějaké memorandum o spolupráci, že jo, <unintelligible/>, no.',\n 'Nebo s pa-',\n 'A [ORGANIZATION26] a [ORGANIZATION7], ti to prý jako podporují taky, no.',\n '<other_noise/>',\n 'Takže, hm -',\n '<other_noise/>',\n 'Eh, teď uděláme tu studii a další kroky nevím, protože on by rád dělal PPP projekt, ale to mně přijde, že -',\n '<other_noise/>',\n 'je, je -',\n '<other_noise/>',\n 'v současné situaci je -',\n '<other_noise/>',\n 'jako skoro nepředstavitelné, aby to byl nějaký PPP projekt.',\n 'Že to spíš bude nějak muset být odděleně, nebo on to zainvestuje a město -',\n '<other_noise/>',\n 'Nevím, jo, jak se, jak se jako domluví.',\n 'Zároveň tam bude muset být -',\n '<other_noise/>',\n 'Nebo je podaný podnět asi na změnu plánu, protože to -',\n '<other_noise/>',\n 'není normální zástava možná, že jo, to je v plochách železnice.',\n '(PERSON37) Hm.',\n 'Ano.',\n '(PERSON12) Takže, eh, to má spoustu komplikací.',\n 'Takže bych tomu věnoval opravdu, eh, adekvátní množství energie.',\n '(PERSON37) Ano.',\n '<other_noise/>',\n '(PERSON12) To znamená opravdu jenom rychle naskicovat objemy a s našimi dopraváky rychle prokonzultovat -',\n '<other_noise/>',\n 'A, a p-, a potom se to dá rozpočtáři, -',\n '<other_noise/>',\n 'protože jestli ta lávka bude i pro cyklisty, tak bude asi širší a muset mít nějaká jiná.',\n 'Což si dokážu představit, že by tam mohl být i velký výtah.',\n '<other_noise/>',\n 'A tím se sjede jako dolů.',\n '<other_noise/>',\n 'Že by to mohlo takhle zafungovat.',\n 'Tím pádem by to bylo b-, i bezbariérové, a to bysme nacenili a takhle bysme to předali v řádech týdnů tomu investorovi -',\n '(PERSON37) Jo.',\n '(PERSON12) A splnili náš úkol.',\n '(PERSON37) Hm.',\n '(PERSON12) Jo?',\n '(PERSON37) Já souhlasím.',\n 'Já jenom jako -',\n 'Chci k tomu jenom dodat, eh, že ohledně [PROJECT22], tak tam už je teďko v pokročilý fázi první etapa s-, tý studie.',\n 'Eh, je na to vydaný územní rozhodnutí -',\n '<other_noise/>',\n 'A součástí toho ÚRka je vlastně několik dílčích stavebních objektů.',\n 'Jeden z nich je i výtah, právě z tunelu pod Vítkovem, a ten by měl především sloužit pro ty cyklisty, jo?',\n 'Je to -',\n 'A je to investice města.',\n 'Takže tady potom je taky otázka, jestli město se chce soustředit na, na dvě takovýdle stavby.',\n 'To je potom zas vo tý spolupráci, co jste říkal, jestli město bude teda nějak s investorem spolupracovat, eh, na tý investici budoucí.',\n 'Ale -',\n 'A zároveň jsme tady tomu investorovi už, myslím, všichni na všech frontách věnovali spoustu energie.',\n '<laugh/>',\n 'Takže, eh -',\n '<laugh/>',\n 'Teďko tomu budu fakt dávat -',\n '<laugh/>',\n '(PERSON12) Tam říkám, adekvátně věnovat energii -',\n '(PERSON37) Ano.',\n '(PERSON12) teď tomuto úkolu druhému.',\n '(PERSON2) Eh -',\n '(PERSON12) Jo?',\n '(PERSON2) Ji-, [PERSON37], von prej [PERSON23] už todleto zpracovával ve škole, jako nějakej -',\n '(PERSON37) Jo, jo.',\n '(PERSON2) studentskej projekt.',\n 'Takže -',\n '(PERSON37) Hm.',\n '(PERSON12) Eh, se podíváme na to, co vlastně už udělal.',\n 'Jestli by se <unintelligible/> -',\n '(PERSON37) No, takhle, von ten, eh -',\n '(PERSON2) dalo použít.',\n '(PERSON37) Von ten, eh, pan [PERSON38] má už na to x různejch studií a naposledy právě studie z-, od studentů z Liberce.',\n '(PERSON2) Hm.',\n '(PERSON37) Takže to je, to bylo, myslím, na jaře tohoto roku prezentovaný v ke-, nebo pře-, prostě před covidem, eh, prezentovaný v [ORGANIZATION32].',\n 'Takže on jakoby podkladů má spoustu a přesně vím, že i [PERSON23] říkal, že to taky ve škole dělali.',\n '(PERSON2) Hm.',\n '(PERSON37) A ta změna už měla veřejný projednání, eh, před létem a, eh, samozřejmě památkáři klasicky, protože to je, -',\n '<other_noise/>',\n 'eh, v památkový zóně nebo má to nějakej dopad, eh, do -',\n '<other_noise/>',\n 'zóny v Karlíně, tak, eh, podali jejich typickou prostě připomínku k tomu veřejnýmu projednání, no.',\n 'Že nesouhlasí s jakoukoliv zástavbou, s jakoukoliv prostě, s jakýmkoliv kódem míry využití území, a tak dále.',\n 'Takže k tomu se teď vedou nějaký dohadovací jednání, zase.',\n '(PERSON2) Hm.',\n 'Hm.',\n '(PERSON37) Ale jako dá se říct, že ta změna už vlastně pokročila.',\n 'Já, co jsem na [ORGANIZATION15], tak s-, ta změna se vlastně pořizuje, ty tři roky, že jo.',\n 'A je to fakt malá změna, no.',\n '(PERSON2) Jo.',\n '<other_noise/>',\n 'No, tak já se nějak, eh, s [PERSON23] domluvím.',\n 'Nevíš, jestli dneska bude v kanceláři?',\n '(PERSON37) Eh, netuším.',\n '(PERSON2) Tak já mu zavolám, no.',\n '(PERSON37) Bude, bude určitě v pátek.',\n 'Možná, [PERSON2], já se s ním klidně domluvím sama -',\n '(PERSON2) Jo?',\n '(PERSON37) Jako, když teď už vím, co, co máme jako dělat, tak, eh, já se-',\n '(PERSON12) Jo, určitě.',\n '(PERSON37) <unintelligible/> -',\n '(PERSON12) To napřímo.',\n '(PERSON2) Jo.',\n '(PERSON12) No.',\n '(PERSON37) Se s ním domluvím sama.',\n '(PERSON2) Prosím tě, tak, tak, aby udělal nějakej tenoulilinkej elaborátek.',\n '(PERSON37) Určitě.',\n '<other_noise/>',\n '(PERSON2) Tak jo.',\n 'Tak, tak děkuju moc.',\n '(PERSON12) To z toho důvodu jsme ho zapojili, aby u-, u-, ulevil [PERSON37].',\n '<other_noise/>',\n 'Jo?',\n 'Takže -',\n '<laugh/>',\n 'To není tak, že bysme Vás chtěli obcházet, ale je to, aby byl Vám k ruce, [PERSON37].',\n 'Takže to tak berte.',\n '(PERSON37) Jo, jo, to on velmi pomáhá.',\n 'Děkuju.',\n '<other_noise/>',\n '<laugh/>',\n '(PERSON2) No.',\n 'Eh, další, eh, zajímavost, kterou máme na stole, [PROJECT24].',\n 'Eh, měla bejt ve čtvrtek schůzka se stratégama, tak se chci zeptat, jestli byla, a co se na ní projednalo?',\n 'Kdo tam byl?',\n '[PERSON35]?',\n '(PERSON12) Můžu já poreferovat, anebo ať s-, poreferuje někdo jiný, klidně.',\n 'Jo, [PERSON35] může poreferovat.',\n '<other_yawn/>',\n 'Je tady.',\n '<other_noise/>',\n '(PERSON35) Klidně, klidně vy, to je jedno, asi.',\n '(PERSON2) Tak povídej a [PERSON12] to doplní.',\n '(PERSON35) Dobře.',\n 'Tak, eh, eh, vlastně nevím -',\n 'No, jako, eh, v zásadě na tom jednání vyplynulo, že stratégové už delší dobu vlastně na podobném materiálu, co my jsme chtěli, to se týká, eh, průmyslových oblastí v rámci Prahy, tak se tím zabý-, začali zabývat už nějakou dobu zpátky.',\n 'V tuhle chvíli, eh, já <unintelligible/>, že tady teďka nemám přesně poznámky, ale mají v plánu zažádat o spolupráci ještě, myslím, s [ORGANIZATION12].',\n 'A, a, eh, na základě toho právě udělat ten dokument.',\n 'Akorát, že vzhledem ke spolupráci, a tak, tak to nějakou bude trvat, než, eh, podobný dokument strategie, co se týká, eh, průmyslových oblastí, udělají.',\n '<other_noise/>',\n 'A není to úplně v souladu s horizontem, který máme my zase v Malešicích.',\n 'Každopádně dohodli jsme se, že, eh, že stratégové asi jsou schopní, řekněme, nějak trochu predikovat, jakým směrem asi se to bude, když to řeknu, eh, vyvíjet.',\n 'Jako ohledně toho, že ano, asi tady je nějaká průmyslová oblast, ale dále to budeme potvrzovat až v té naší práci.',\n 'Takže tím způsobem s nima nějak budeme komunikovat, že jejich, eh, když to řeknu, nějaký odhady, který se mají až v budoucnu potvrdit, tak na základě nich my už budeme zpracovávat, eh, materiál právě pro ty Malešice.',\n 'V tuhle chvíli, eh, teda připravuju usn-, eh, návrh usnesení a odůvodnění pro [ORGANIZATION13].',\n 'To asi bych řekla, že je ten hlavní výsledek v tuhle chvíli toho jednání.',\n 'Takže v podstatě spolupráce se stratégama bude, ale vzhledem k tomu, že jsou v jiným horizontu než my, tak, tak nebude úplně taková, jak jsme ji chtěli.',\n '(PERSON2) Jo.',\n 'Takže vy budete trochu vo krok napřed.',\n 'V týdletý oblasti.',\n '(PERSON35) No, jakoby trochu budeme předjímat, co ani, asi oni si o Malešicích budou myslet, když to takhle řeknu.',\n '(PERSON2) Jo, <unintelligible/>.',\n '(PERSON35) Nevím, jestli mě nechcete, pane [PERSON12], ještě nějak doplnit?',\n '<other_noise/>',\n '(PERSON12) Je to tak, jak to říkáte.',\n 'My bu-, my, my díky tomu, že to-, v tom reálu je to potřeba mít dřív, tak, eh, to malinko bude -',\n 'Ale bude to napsané tak, že skutečně bude počítat ten, ta práce s tím, že se po-, buď podaří, nebo nepodaří -',\n '<other_noise/>',\n 'ten projekt [ORGANIZATION12].',\n '<other_noise/>',\n 'A kdyby se nepodařil, tak oni to stejně by chtěli dělat interně.',\n 'A třeba i si pak na to řekli peníze od města.',\n 'Že je to tak závažná věc, kterou bychom si nechali když tak profinancovat tak jako tak.',\n '<other_noise/>',\n 'No.',\n 'A já se omlouvám, já se ještě ne-, eh, já musím, eh, to jsem se, to se k tomu dostanu tendle týden, jo?',\n 'K, eh, nějakým těm bodům na t-, na ten tisk.',\n 'Abysme ho začali připravovat.',\n 'Nebo Vy něco máte už hotové?',\n '(PERSON35) Eh, já se přiznám, že zatím jsem se věnovala ještě jinejm věcem, který jsem -',\n '(PERSON12) Jo, tak to já taky.',\n '(PERSON35) <unintelligible/> -',\n '(PERSON12) Tak já su-, tak to do konce týdne zkusíme, eh, vy-, udělat výkop a poslali bychom to těm stratégům -',\n '<other_noise/>',\n '(PERSON35) Hm.',\n '(PERSON12) ke kontrole.',\n '<other_noise/>',\n 'Nejpozději začátkem příštího týdne.',\n '<other_noise/>',\n 'Aby to pak už nebylo na nás, no.',\n '<other_noise/>',\n '<laugh/>',\n '<unintelligible/>.',\n '<other_noise/>',\n 'Jenom -',\n '(PERSON2) Dobře.',\n '<other_noise/>',\n '(PERSON12) Dobře, tak -',\n '<other_yawn/>',\n '(PERSON2) Pak jsem se chtěla -',\n '(PERSON12) Děkuju.',\n '(PERSON2) No?',\n '<other_noise/>',\n 'Tak.',\n 'Pak jsem se chtěla zeptat, kde zrovna teďko leží [PROJECT12] spojka?',\n 'Jestli ještě u dopraváků, nebo jestli už vod nás může vodejít teda, hm -',\n 'To koncepčko je -',\n '<other_noise/>',\n 'vo tom, že vlastně tam nic nejde, ale aby už jsme to měli z krku.',\n '(PERSON6) Pořád, eh, dopraváci, ale někdy v pondělí jsem mluvila s [PERSON8] a opěťovně jsem mu to připomínala a on říkal, že se na to podívá tenhle týden.',\n '<other_noise/>',\n 'Tak -',\n '<laugh/>',\n 'Snad.',\n '<other_noise/>',\n '<laugh/>',\n '(PERSON2) Dobře.',\n '<other_noise/>',\n 'Tak já snad ho budu taky honit.',\n 'Eh -',\n '[PROJECT2], eh, [PERSON11], eh musíme -',\n '(PERSON11) [PERSON2]?',\n '(PERSON2) už začít psát to zadání, eh, protože -',\n '(PERSON11) [PERSON2]?',\n '(PERSON2) Ano?',\n '(PERSON11) Já jsem [PERSON11].',\n 'My jsme -',\n '(PERSON2) Ano, ano.',\n '(PERSON11) <unintelligible/>, že ani nejsme vidět, víš?',\n '<laugh/>',\n '(PERSON2) No, to nevadí.',\n 'Já tě slyším a poznám tě po hlase.',\n '(PERSON11) Já jsem mluvil včera s [PERSON8] vo jinejch věcech.',\n 'A [PERSON8] dostal teďko nějakej, eh, v-, včera teda tam byl zalitej nějakou prací na [PROJECT9] a týdlectý [PROJECT10] nebo [PROJECT4] -',\n '(PERSON2) Hm.',\n '(PERSON11) A měl tam počítat jakési plochy a, a kapacity, a takový věci.',\n 'Byl z toho celej zděšenej a, eh, je to hodně práce a má to nějak rychle udělat.',\n 'Tak, eh, jen jsem, jen konstatuju, že [PERSON8] se topil v tomdletom.',\n '(PERSON2) Jo.',\n 'Rozumím, no.',\n 'Jo.',\n 'Jo.',\n '(PERSON11) A, a, eh, prosím tě, k tý, k tomu [PROJECT2], to by mě zajímalo, no.',\n '(PERSON2) Jo.',\n 'Zítra teda my se spojíme s tím [ORGANIZATION18] ráno, eh -',\n '(PERSON11) Ano.',\n '(PERSON2) Takže uvidíme, co, jaký jsou jejich názory nebo požadavky.',\n 'Jim se zřejmě líbí ten nápad umístit tam [PROJECT19].',\n 'Eh, tak jsem se dozvěděla, že vo tom chtěj s náma mluvit, takže je vyslechneme.',\n 'Spojíme se s nima s [PERSON12] a, eh, na to budeme jako reagovat.',\n 'Já taky zjistím, kde teďko leží ten tisk na to zadání.',\n 'Ale, eh, bylo by dobrý už určitě teda letos na podzim vypsat výběrový řízení na zhotovitele tý studie, jo?',\n 'Takže to, eh, zadání musíme napsat.',\n 'No.',\n '(PERSON11) Eh, kdo ho bude psát?',\n '(PERSON2) <unintelligible/> -',\n 'Ty.',\n '<laugh/>',\n '(PERSON11) <unintelligible/> -',\n '(PERSON2) [PERSON11].',\n 'A budeme dávat všichni hlavy dohromady, co k tomu, kdo ví -',\n '(PERSON11) Dobře.',\n '(PERSON2) Eh, po-, požádáme dopraváky -',\n '(PERSON11) Jasně.',\n '(PERSON2) Požádáme zelináře a -',\n '(PERSON11) <unintelligible/> -',\n '(PERSON2) Budem to konzultovat s [ORGANIZATION14].',\n '(PERSON11) <unintelligible/> veřejný prostory, [PERSON20] -',\n '(PERSON2) Ano.',\n 'Ano.',\n '(PERSON11) Eh, kdy, kdy si myslíš, že bychom si o tom třeba mohli dát, eh, dostaveníčko?',\n '<other_yawn/>',\n '(PERSON2) No, já si myslím, že příští týden už budu vod středy normálně chodit, tak nevím, jestli se tam potkáme, že bysme si na to radši sedli.',\n '(PERSON11) Určitě jo.',\n '(PERSON2) Jo, tak, tak -',\n '(PERSON11) Já jen zejtra dopoledne nemůžu, protože už mám tři neděle něco domluvenýho.',\n 'A todle jsem -',\n '(PERSON2) Ano.',\n '(PERSON11) se dozvěděl včera, jo?',\n 'Takže jsem to -',\n '(PERSON2) Ano.',\n 'Já vím.',\n '(PERSON11) nemoh už změnit.',\n '(PERSON2) Ano.',\n 'Eh, takže, eh -',\n '(PERSON11) Ale počítám s tím, že se spolu sejdem, eh, tu strukturu -',\n '(PERSON2) Ano.',\n '(PERSON11) si roz-, eh, dělíme a uděláme nějakej časovej harmonogram.',\n '(PERSON2) No.',\n 'Bezva, [PERSON11].',\n '<other_noise/>',\n 'Tak jo, <unintelligible/> -',\n '(PERSON11) Ok.',\n '(PERSON2) příští tejden.',\n 'Já, já bych si -',\n 'V pondělí je volno, prosím, nechoďte do práce, budeme slavit Svatýho Václava.',\n 'A v úterý já si dovolím vzít jeden den volno, [PERSON36] mě zastoupí.',\n 'A ve středu už zase začnem fungovat normálně, a to už bych tam chtěla chodit.',\n 'Eh, v nějakým jako -',\n '(PERSON11) <unintelligible/>, tak ten se, zhruba vod tý středy budeme domlouvat, jo?',\n '(PERSON2) Přesně tak.',\n 'Jo.',\n 'Tak moc děkuju.',\n '(PERSON11) Ok.',\n '(PERSON2) Jo.',\n '(PERSON11) Zatím jsem ještě nic nevykonal, ne?',\n '<laugh/>',\n '(PERSON2) Zatím mě podporuješ, aspoň.',\n 'Tak jo.',\n 'Eh, c-',\n '(PERSON11) Ne, tak vono to bude komplikovaný, bude tam hodně práce na tom a asi to budeme dělat bez ohledu na prachy teďko.',\n 'Tím se nebudeme deprimovat a, eh, těch konsekvencí je v tom hodně, protože území je složité, že?',\n '(PERSON2) Je a ty, ty vo tom hodně víš, takže <unintelligible/> -',\n '(PERSON11) A <unintelligible/> budou do nás -',\n '(PERSON2) No.',\n '(PERSON11) prát památkáři taky, že jo?',\n '(PERSON2) Ano, a do-',\n 'No, jasně.',\n 'A [ORGANIZATION14].',\n 'No.',\n '(PERSON11) A mimo jiné.',\n '(PERSON2) Ano.',\n '<laugh/>',\n 'Dobře.',\n 'Tak jo, tak, tak <unintelligible/> -',\n '<other_noise/>',\n '(PERSON11) Prima.',\n '(PERSON2) Příští tejden začnem.',\n 'Tak jo.',\n '(PERSON11) <unintelligible/>.',\n '(PERSON2) Děkuju.',\n '(PERSON11) Jo?',\n 'Já děkuju.',\n '(PERSON2) Eh -',\n 'Eh, stejně tak, [PERSON31], my zase rozjedeme tu [PROJECT21], abysme to zadali panu architektu [PERSON5].',\n 'Jo?',\n 'Teďko.',\n '(PERSON31) Já -',\n 'Já bych se chtěla zeptat, jestli se ví, ehm -',\n '<other_noise/>',\n 'Jakej ten rozsah teda bude b-, b-, bude to ten malej rozsah, eh, <unintelligible/> -',\n '(PERSON12) Ano, bude to ten malý rozsah.',\n 'A jenom my připravíme zadání, ale bude to zadávat, eh, Sekce, hm, kvůl-, eh, [ORGANIZATION1].',\n 'Kvůli -',\n '<other_yawn/>',\n '<other_noise/>',\n 'Předejití případnému střetu zájmů.',\n '(PERSON31) Jo, dobře.',\n '(PERSON12) Takže -',\n 'Ale musíme to obsahově připravit my.',\n '(PERSON31) A to znamená, že to se bude spíš týkat jakoby posouzení jako typologického nebo -',\n '(PERSON12) Opravdu analýza, eh, napíšeme to velmi obecně, a-, analýza -',\n 'Já to zkusím, já jsem, to mám jako úkol taky, další.',\n '<other_noise/>',\n 'Jako vykopnout -',\n 'Eh, on mi pan architekt [PERSON5] slíbil, že mi něco pošle, ale nic neposlal.',\n 'Takže to napíšeme my, pošleme mu to, a když, eh, nebude reagovat, tak, tak to takhle obecně zadáme.',\n '(PERSON31) Jo.',\n '(PERSON12) Měl by to být -',\n 'My jsme se domluvili, že ta první fáze bude analýza a nějaké zhodnocení toho stavu, eh, současného, toho areálu, z pohledu využití pro, eh, pro ten účel nemocnice.',\n 'Jo?',\n 'Protože jiné vy-, bylo zhodnocení ahi-, architektonicko-historické.',\n 'Jiné nějaké zhodnocení obecné, jako urbanistické.',\n 'Jiné zhodnocení ekonomické.',\n 'Ale nás primárně teď zajímá, eh, kde vlastně ta nemocnice by mohla být, kde ne.',\n 'Tak tohle by byl nějaký, nějaká úvodní, úvodní jednoduchá analýza.',\n 'Jo?',\n 'Za-, eh, f-, a vlastně v rozsahu, eh, relativně malých peněz taky.',\n '<other_noise/>',\n 'A tudíž ale i časově rychlejší a letos by měla být ještě jako dodána.',\n 'No, a potom uvidíme, co se bude dít, jak se město domluví se státem, a jak se bude pokračovat dál.',\n 'Jo?',\n 'A já z-, eh, ještě mezitím budu se snažit domluvit nějakou spolupráci tak, aby -',\n '<other_noise/>',\n '[ORGANIZATION15] mohl, mohl vlastně, hm, vysoutěžit nebo měl v ruce -',\n '<other_noise/>',\n 'tu expertízu, kterou nemá obvykle.',\n 'To znamená mohl poptávat -',\n '<other_noise/>',\n 'Mohl poptat, eh, buď ústav, eh, nebo jiné vědecko-výzkumné pracoviště nebo univerzitu, tak.',\n 'Takže já to, já to, to bude můj úkol to připravit.',\n 'Ale -',\n 'A tady <unintelligible/>, jenom si připravíme my tu, -',\n '<other_noise/>',\n 'tu malou zakázku, no.',\n '(PERSON31) Takže vlastně ta prvotní úvaha, že půjde vlastně o vyhodnocení těch pozemků ke směně, to už je úplně na vedlejší <unintelligible/> -',\n '(PERSON12) No, do toho se pak dostaneme, ale to souvisí -',\n '(PERSON31) <unintelligible/> -',\n '(PERSON12) Já, když jsem, eh, to konzultoval s panem architektem, hm, my jsme měli schůzku někdy ještě v srpnu o-, osobně.',\n 'Tak ono to je složité, protože to se nedá říct bez toho, aniž by se řeklo, jak ta nemocnice má vypadat.',\n '<other_noise/>',\n '(PERSON31) Dobře.',\n '(PERSON12) Nebo jaká je jako kdyby možnost vůbec s tou nemocnicí pracovat.',\n 'A myslím si, že se to ale nedozvíme, protože ta paní, která v nemocnici na [PROJECT21] má na starosti její koncepční rozvoj, je vedoucí infekčního, je teda před-, přednostka infekčního, eh -',\n '(PERSON31) Kliniky, no.',\n '(PERSON12) Kli-',\n 'Infekční kliniky.',\n 'Děkuju.',\n 'Takže ta teď bude mít spoustu jiných starostí zase.',\n 'No.',\n '(PERSON31) Jo.',\n '(PERSON12) A má celý rok, že jo, takže -',\n '<other_noise/>',\n 'Eh -',\n 'A možná s tím covidem to zase trošku jako usne nebo půjde do pozadí.',\n '<other_noise/>',\n 'Ono se to rozdmýchalo vlastně, a rozjelo na jaře -',\n '<other_noise/>',\n 'Nebo v tom červnu, červenci.',\n 'Zase ta jednání Prahy a státu, tak uvidíme, no.',\n 'My, my to musíme připravit, tu analýzu, abychom za nás zase to, co jsme slíbili, splnili.',\n 'A pak uvidíme, co dál.',\n '<other_noise/>',\n '(PERSON31) Jo, dobře.',\n 'Dobře, dobře.',\n '<other_noise/>',\n '(PERSON2) Tak jo.',\n 'Takže to je [PROJECT21].',\n 'Eh -',\n 'S týmem [PROJECT20] asi to projdeme v pátek nebo ještě zavolám dneska [PERSON6], abysme si něco upřesnily.',\n 'Eh, pa-',\n 'A pak jsem na příště asi chtěla, eh, předvíst -',\n 'Máme takovou s [PERSON29] kontroverzní studii na [PROJECT15].',\n 'Eh, je to vod [ORGANIZATION9], hrozně hezkej projekt, ale je to stabilizovaný území a je to veliký.',\n 'Takže by nás docela zajímal vás-, váš názor.',\n '<other_noise/>',\n 'Nechtěly bysme to úplně zazdít, ale, eh, nevíme, jak to vobhájit.',\n '<laugh/>',\n 'Takže to vám příště představíme.',\n 'Takže to je dneska za mě všechno.',\n 'Tak jsem se chtěla zeptat, jestli [PERSON12] něco má?',\n 'A potom všichni, kdo, eh, maj něco na srdci, tak tady budu poslouchat.',\n '<other_noise/>',\n '(PERSON12) Jo, já mám, jenom ještě poprosím, eh, to už jsme se bavili se [PERSON2], eh, s [ORGANIZATION2] budeme mít, to si řekneme k [PROJECT20], eh, ještě představení toho jihu i pro [ORGANIZATION2].',\n '<other_noise/>',\n 'Jako jednoho z těch, z-, z těch vlastně stakeholdingů dotčených-',\n '<other_noise/>',\n 'trošku taky těmi věcmi, co se dějí na jih od Kamýcké ulice.',\n 'Tak to domluvíme si termín na setkání s nimi online, předpokládám.',\n '<other_noise/>',\n 'Ah, eh, eh, chti-, eh, chci zeptat, eh, jak je na tom [PERSON36]?',\n '<other_noise/>',\n 'Jak se mu daří?',\n '(PERSON36) Já jsem na tom -',\n '<other_yawn/>',\n '<other_noise/>',\n 'výborně.',\n '<censored/>',\n '<other_noise/>',\n 'Nicméně tenhle tejden ještě teda pro-, pro-, hm, preventivně z domova, ale příští tejden můžu nastoupit v plný síle.',\n '<other_noise/>',\n 'Na [ORGANIZATION15].',\n 'Snad.',\n '(PERSON12) To je skvělá z-, z-',\n '(PERSON36) <censored/>',\n '<laugh/>',\n '(PERSON12) <unintelligible/> jo.',\n 'Tak jo.',\n '(PERSON36) Tak děkuju za optání.',\n '<laugh/>',\n '(PERSON12) Já děkuju za zprávu.',\n 'Tak to je pozitivní.',\n 'A -',\n '(PERSON36) Pozitivní už ne.',\n '<laugh/>',\n 'Pozitivní už ne.',\n '<laugh/>',\n '(PERSON12) Dobře.',\n '<laugh/>',\n 'Tak to je dobrá zpráva.',\n 'Tak.',\n 'A -',\n '<laugh/>',\n '<unintelligible/> asi možná to pozitivní se opravdu bude -',\n '<other_noise/>',\n 'míň používat.',\n '<other_noise/>',\n 'Eh -',\n 'To včera někdo zmiňoval.',\n 'A -',\n 'Eh -',\n 'Potom mám ještě otázku na, eh, [PERSON34], jestli teda se nějak posouvají ty participátoři?',\n 'V té přípravě, nebo je potřeba je nějak, eh -',\n 'Nebo mám, nebo jestli <unintelligible/> -',\n '(PERSON34) Hm, no, když do nich -',\n '(PERSON12) na schůzku.',\n '(PERSON34) Když do nich šťouchneš -',\n 'Je to týden, co jsem seděl s [PERSON30] a je to, hm, vod tý doby se asi nic nestalo.',\n 'Můžem do nich šťouchnout, to je možný.',\n '(PERSON12) Nebo zkus zorganizovat nějakej online krátké setkání, aby nám představili, jak si to předsta-, jako jestli mají nějaký -',\n 'Nebo nám aspoň poslali nějaké -',\n '(PERSON34) Hm.',\n '(PERSON12) propozice.',\n 'Protože já si myslím, že -',\n '<other_noise/>',\n 'se to bude muset, eh, třeba v příštím týdnu rozeslat.',\n 'I [PERSON28], jestli s-, takhle je to -',\n '<other_noise/>',\n 'ok a, a tomu investorovi, že jo.',\n 'Udělat třeba schůzku -',\n '(PERSON34) No, my u-, u nich bude jako trvat, eh, chvilku, než pochopí, že je to fakt rychlá akce, na, na což oni nejsou zvyklí.',\n 'Tak já to prošťouchnu, prostě.',\n '(PERSON12) Jo, napiš jim, že -',\n '(PERSON34) Jo.',\n '(PERSON12) bych rád věděl, -',\n '(PERSON34) <unintelligible/> -',\n '(PERSON12) co, co mají připravené.',\n 'A eventuelně teda i nějakou alternativu nebo podporu, asi online, eh, jestli se to bude streamovat nebo -',\n 'Jo?',\n 'Že se sejdeme tam v deseti lidech venku a zároveň tam bude někdo s kamerou a bude to [ORGANIZATION33] -',\n 'Nebo, nebo aby aspoň todle dali do toho, že to je požadavek na [ORGANIZATION33], jo?',\n 'Která vlastně by to měla celý -',\n '(PERSON34) To je součastí toho -',\n 'Jestli jsi čet ten zápis, jak jsme, eh, vo čem jsme mluvili, tak todle tam nějak je jako zakletý.',\n 'Ale jako opakovat, eh, je vhodné <unintelligible/>.',\n '<other_noise/>',\n '(PERSON12) Jo?',\n '(PERSON34) Jo.',\n '(PERSON12) Anebo jestli už teda jsou v kontaktu s tím, eh, jak se jmenuje, koordinátor parcitipace na [ORGANIZATION33].',\n '(PERSON34) No, já to zjistím.',\n 'Ja to zjistím.',\n '(PERSON12) Jo, tak jenom je potřeba je pošťouchnout.',\n 'Ono prostě to 14 dní uteče, a pak to, pak abys, abysme prostě -',\n '<other_noise/>',\n 'to posouvali.',\n 'Děkuju.',\n '<other_noise/>',\n '(PERSON34) Mů-, můžu si vzít slovo, když, když jsme mluvili -',\n 'Jenom vsuvka, teďka jsem, eh, byli jsme na spoustě různejch schůzek -',\n '<other_noise/>',\n 'ohledně <unintelligible/>, eh, [PROJECT11].',\n 'Eh, ty a [PERSON2] máte mail, eh, měli bysme to pustit tý firmě, co, co, eh, co jsme to napsali, všichni to vědí.',\n 'A [ORGANIZATION31] je vošetřený vod včerejška.',\n 'Když tak vysvětlím detaily, potom.',\n 'Jo?',\n '(PERSON12) Dobře.',\n 'Tak jo.',\n '(PERSON34) <unintelligible/> -',\n '(PERSON12) Já jsem to viděl, ten mail.',\n '<other_noise/>',\n '(PERSON34) Fajn, děkuju.',\n '(PERSON12) Tak to -',\n '<other_noise/>',\n 'Tak to dáme k podpisu k-, dneska.',\n '(PERSON34) No, děkuju.',\n '(PERSON2) <unintelligible/> -',\n 'Hned si to přečtu.',\n '(PERSON34) Je to stejný.',\n '(PERSON2) Jo.',\n '(PERSON34) Je to úplně stejný, akorát je tam do rozdělovníku přidanej, eh -',\n '<other_noise/>',\n '[PERSON41].',\n 'Eh, [PERSON41] -',\n 'Eh, [PERSON9]-',\n '(PERSON2) [PERSON9].',\n '(PERSON34) [PERSON17].',\n '(PERSON2) Jo.',\n '<laugh/>',\n 'Jo.',\n '<other_noise/>',\n '(PERSON34) Dobře.',\n 'Tak fajn.',\n 'Všechno.',\n '<other_noise/>',\n '(PERSON12) Dobře, děkuju.',\n '(PERSON2) Dobře.',\n 'Tak kdo m-, kdo něco má?',\n '(PERSON12) A, a za mě je to -',\n 'Pardon.',\n 'Za mě je to asi všechno.',\n '(PERSON2) Dobře.',\n 'Děkujem, [PERSON12].',\n '(PERSON12) A jinak děkuji za sp-, děkuji za spolupráci v tomdletom režimu.',\n 'Eh, uvidíme, jak dlouho to bude, ale opravdu, hm, eh -',\n 'Asi <unintelligible/> budem ještě nějakou dobu spíš v tom home office módu než v tom - ',\n '<other_noise/>',\n 'prezenčním, no.',\n '<other_noise/>',\n 'Tak to je všechno.',\n '<other_noise/>',\n '(PERSON2) Děkujem.',\n '<other_noise/>',\n '(PERSON36) Já jsem se chtěl jenom zeptat, eh, i ostatních, jakou maj zkušnost teď s kolečkama s [ORGANIZATION5]?',\n 'Protože většinou, když pošlu něco panu [PERSON1], tak se musím -',\n '<other_noise/>',\n 'o to pak ještě třikrát připomínat, než, eh, z nich dostanu nějaký vyjádření.',\n 'Tak já -',\n '<other_noise/>',\n 'nevím, jestli máte podobnou zkušenost nebo -',\n '<other_noise/>',\n '(PERSON29) Já to -',\n '(PERSON15) Mám dobrou zkušenost posílat to, eh, na [PERSON21].',\n '(PERSON31) <unintelligible/> -',\n '(PERSON15) Kterej sedí s panem [PERSON1], že jo, a -',\n '<laugh/>',\n 'von to vopravdu všechno přebírá a reaguje hned.',\n 'Takže, eh, na [PERSON21], radši.',\n '(PERSON31) Taky, potvrzujeme.',\n '(PERSON35) Ano, já to mám taky tak.',\n '<laugh/>',\n '(PERSON18) Já taky, potvrzuju.',\n '(PERSON6) Taky.',\n '<laugh/>',\n '(PERSON37) No, <unintelligible/> na p-, pana [PERSON1].',\n '(PERSON2) Takže pana [PERSON1] v kopii, no.',\n 'A [PERSON21] to asi zařídí.',\n '<laugh/>',\n 'Tak jo.',\n '<laugh/>',\n 'Dobře.',\n '(PERSON12) Anebo pan [PERSON1] jenom v pondělí, no.',\n '<laugh/>',\n '(PERSON2) No.',\n 'Já jsem si dovolila panu [PERSON1] napsat ohledně [PROJECT14], že by taky moh hrát trochu za [ORGANIZATION15] a ne jenom za, -',\n '<other_noise/>',\n 'za svoje zkušenosti, -',\n '<other_noise/>',\n 'když dělal EJU.',\n 'Tak-',\n '<other_noise/>',\n 'nevím, jestli se mnou vůbec bude ještě mluvit, teďko.',\n 'Tak, až tam budu, tak se ho musím jít pohladit, nějak, no.',\n '<laugh/>',\n '(PERSON37) Eh, [PERSON2], promiň, a tos mu psala v reakci, eh, na to, že jsem ho znova žádala vo to kolečko -',\n '(PERSON2) Ano.',\n '(PERSON37) teďko?',\n '(PERSON2) Ano.',\n 'No.',\n 'Já jsem mu napsala už jenom jeho, nedávala jsem tě do kopie, aby to -',\n '(PERSON37) Hm.',\n '(PERSON2) bylo jako, prostě vedoucí vůči vedoucímu, ale, ale požádala jsem ho, aby teda to svoje vyjádření přehodnotil, jako že teď sedí na jiný straně židle, no.',\n 'Nebo stolu.',\n '(PERSON37) Jasně, no.',\n '(PERSON11) Já jsem -',\n 'Já jsem chtěl k tomu říci, že jsem včera to dával [PERSON4] -',\n '(PERSON39) [PERSON4].',\n '(PERSON11) [PERSON4].',\n 'Protože jsem to měl papírově a n-, a, eh, všichni byli mimo dům.',\n 'A vona říkala, že to běžně zařídí, že to není problém.',\n '(PERSON2) Jo.',\n '<other_noise/>',\n 'Ale i já sama mám zkušenost, že [PERSON21] funguje bezvadně.',\n '(PERSON11) <unintelligible/>, eh, vždycky fungoval.',\n 'Ano.',\n '(PERSON2) Dobře.',\n '<other_noise/>',\n '(PERSON31) Můžu mít jednu věc?',\n '(PERSON2) Ano.',\n '(PERSON31) Já jsem dneska ráno absolvovala, eh, online jednání, který vyvolala, eh, [ORGANIZATION24].',\n 'S [ORGANIZATION31], s panem ředitelem Ku-, [PERSON40] a se správci sítí.',\n 'Ohledně nějakého systematického přístupu k odstraňování sítí, které při rekonstrukcích jsou odpojeny.',\n 'Zůstavají jako prázdný.',\n 'A protože s-, eh, se třeba t-, ta, ten novej úsek dělá v jiný trase, tak prostě ten odpojenej nevyužitej zůstane v chodníku.',\n '<other_noise/>',\n 'A, eh, eh, i-, i-, je to vza-, vzatý jakoby nějakej, eh, eh, vý-, výkop, začátek jednání, kde by se snad jako mohlo dobrat k nějakýmu systémovějšímu řešení.',\n '<other_noise/>',\n 'Ale -',\n '<other_noise/>',\n 'Eh, byla jsem požádána, eh -',\n 'J-, jedna z věcí, která se tam diskutovala, tak bylo, eh, že by bylo -',\n '<other_noise/>',\n 'dobře, kdyby vznikla, eh, vznikl visovej podklad, visová mapa, eh, eh, vlastně těhletěch, eh, sítí, eh, k-',\n '<other_noise/>',\n 'který už jsou nefunkční a zůstanou, eh, v-, hm, eh, umístěný jako v těch chodnících.',\n '[PERSON42], kterej se účastnil taky, tak říkal, že u, snad u vodovodu to existuje -',\n '<other_noise/>',\n 'A, eh, hm, u těch ostatních záleží na tom, co -',\n '<other_noise/>',\n 'jako dostaneme jako podklady od těch správců.',\n '[PERSON42], eh, je příští týden na dovolený, stěhuje a jsme domluvený, že potom bychom, hm, až bude zase v práci, tak, eh, bychom se sešli s IT, s, eh, [PERSON14] a prostě zeptali na nějakou jako technickou proveditelnost.',\n 'Ale je to jakoby téma, který teď jako zdvihla [ORGANIZATION24], protože to je nějakej jejich zájem.',\n 'Ale rádi by dosáhli nějakého jako, eh, systémového řešení n-, pro -',\n '<other_noise/>',\n 'na úrovni celý Prahy.',\n 'Protože i ostatní městský části vlastně, eh, hm, o tohleto stojí.',\n '<other_noise/>',\n 'Tak, eh, to je <unintelligible/> -',\n '(PERSON11) <unintelligible/> [PERSON31]?',\n '[PERSON31]?',\n '(PERSON31) Ano?',\n '(PERSON11) Eh, i já jsem jednal, je to měsíc, v ulici [PROJECT5], která je poměrně velmi exponovaná a bude v ní jeden z výstupů stanice metra D -',\n '(PERSON31) Hm.',\n '(PERSON11) A tam se nepodařilo ty bypassy -',\n '<other_noise/>',\n '<unintelligible/> dohodnout a sítě expandovaly do vozovky.',\n 'Jo?',\n 'Protože chodníky jsou plné mrtvol a mrtvoly nikdo nevytrhává.',\n '(PERSON31) Jo.',\n '(PERSON11) Protože je to drahé.',\n '(PERSON31) Ano.',\n '(PERSON11) <unintelligible/>.',\n 'Totéž je v ulici Vladimírova, přes celý Nusle, kde není možný, eh, kultivovat ty vegetativní -',\n '<other_noise/>',\n 'pásy, protože se to tam takto nechává všechno.',\n 'A je to masově zanedbaný.',\n '(PERSON31) Ano.',\n 'A přitom teda jako součást té debaty byl, hm, jakoby bylo a bude, eh, vlastně, kde by se, eh, na to případný vymisťování, vodstraňování vzali peníze.',\n 'Jestli -',\n '(PERSON11) Ano.',\n '(PERSON31) <unintelligible/> to udělat nějak jako systémově, k čemuž to zi-, s-, s-, v tuhle chvíli zatím jako nesměřuje úplně, ale j-, je to na začátku, prostě nějak.',\n '(PERSON11) Hm.',\n '(PERSON31) Přičemž, eh, paní [PERSON13] z-, zvedla taky, eh, námět, jestli by nebylo možný, aby třeba, eh, z těch finančních kompenzací, který investoři -',\n '<other_noise/>',\n 'Eh, poskytují Praze za čerpání koeficientů z ploch -',\n '<other_noise/>',\n 've vlastnictví [ORGANIZATION11].',\n 'Jestli by nějaká část nech-, nemohla jít do nějakýho takovýdleho fondu.',\n 'Ze kterýho by se hradilo ať už to odstraňování, anebo třeba i potom celkový, eh, celková renovace povrchu, eh, takovýho chodníku.',\n 'Tak, eh, js-, jsem se dozvěděla od pana ředitele [PERSON40], že, eh, [ORGANIZATION10] pracuje na nových pravidlech, eh, proto, jak vlastně ty náhrady, ty, eh, kompenzace, ja-, jakým způsobem se budou, eh, počítat a, eh, hodnotit.',\n 'A že už to nebude v naší kompetenci, abychom se k tomu vyjadřovali.',\n 'Tak to je -',\n '(PERSON11) Jo.',\n '(PERSON37) taková novinka.',\n '(PERSON11) <unintelligible/>.',\n 'V tý [PROJECT5] ulici to bylo, eh, velice komplikovaný.',\n 'A tam, eh, v podstatě -',\n 'Samozřejmě, že ty, ta residua jsou odstranit, ale protože je to tam nesystémově uložené všechno, tak to začne narážet na jiný, eh, správce sítí.',\n 'A ono se to, eh, dá se říci, nedá zúřadovat.',\n '(PERSON31) No.',\n '(PERSON11) <unintelligible/> -',\n '(PERSON31) Tak, tak tohle je iniciativa, která by s-, by jako chtěla tendle stav nějakým způsobem pomoct lepšit.',\n 'Uvidíme, kam se pohne.',\n '(PERSON2) Eh, no, to je určitě dobrá iniciativa.',\n 'Protože víme, že po tom volaj i další městský části -',\n '(PERSON37) Ano.',\n '(PERSON2) A, a že to ten veřejnej prostor hrozně determinuje, že jo, tydlenty, eh, prázdný kabely, nefunkční, no.',\n '(PERSON31) A, a taky, hm, nekoordinace těch akcí, eh, opravy chodníků a, a, hm, kopání, eh, eh, přeložek, tak s-, často spolu nesouvisejí a tím pádem jsou potom vlastně i nákladnější, že jo.',\n '(PERSON2) Hm.',\n '(PERSON31) Takže, eh, jako ta snaha je nějaká jako komplexní a, ale, eh, je to teda, dneska byla, byl první výkop.',\n '(PERSON2) No.',\n 'Tak -',\n '(PERSON11) A -',\n '(PERSON2) Tak to jsem ráda, žes tam šla.',\n '(PERSON11) Pr-',\n '(PERSON2) Děkuju.',\n '(PERSON11) Prosím, ještě v tý [PROJECT5], tam, eh, š-, jde o poměrně kapacitní plynovody -',\n '(PERSON31) Hm.',\n '(PERSON11) A ti plynaři, eh, konstatovali, že oni uměj to vybypassovat, uměj si tam dát alternativní zdroje a, eh, uměj to udělat tak, že -',\n 'Pro-, eh, protože vono je to náročný tes, tys-, eh, vono se, ty starý věci se musej odpojit, nový věci se musej nainstalovat.',\n 'A teď, kam se maj nainstalovat?',\n 'To znamená, tam se musí udělat provizorium takový, pak se musej vytrhat ty star-, starý záležitosti a místo nich se naklást ty nový.',\n 'Takže ono to není s-, eh, jednoduché.',\n 'Ale technicky říkal, že to není, hm, nemožné, akorát je to drahé.',\n '<other_noise/>',\n 'A město to nechce platit.',\n 'Děkuju.',\n '<other_noise/>',\n '(PERSON2) Tak děkuju.',\n 'Tak, kdo má ještě d-',\n '<other_noise/>',\n 'nějaký další takovýdle zážitky?',\n 'Jinak [PERSON15] vítám z dovolený a děkuju, že hned napsal tu výjimku.',\n 'Pokusíme se ji ještě dneska protlačit k podpisu.',\n '(PERSON15) Dobře.',\n '<other_noise/>',\n '(PERSON2) A -',\n 'A j-',\n 'Vidím, že vám chodí vod [PERSON3] spoustu novejch -',\n '<other_noise/>',\n 'a novejch spisů, takže, eh, i když děláme z domova, tak, eh, prosím, nepolevujte a posílejte jako doposavaď.',\n '<other_noise/>',\n 'Eh, ať se nám to nenahrne a nemáme potom najednou strašně moc práce.',\n 'Tak jinak, jestli už nikdo nic nemá, tak já jsem vás ráda viděla a děkuju.',\n 'A -',\n '<other_noise/>',\n '(PERSON18) <unintelligible/> já mám jenom -',\n '(PERSON31) <unintelligible/> ještě maličkost -',\n '(PERSON2) Ano?',\n '(PERSON31) Eh, já jsem včera právě v novejch spisech dostala doplnění spisu, kterej už jsem poslala k vyřízení, už je na podpis k panu řediteli.',\n 'Eh -',\n '(PERSON3) Já už jsem to, [PERSON3], smazala, stáhla jsem to.',\n '(PERSON31) Eh, jo.',\n ...]"
     },
     "execution_count": 236,
     "metadata": {},
     "output_type": "execute_result"
    }
   ],
   "source": [
    "cs_train[\"meeting_cs_train_001\"]"
   ],
   "metadata": {
    "collapsed": false,
    "pycharm": {
     "name": "#%%\n"
    }
   }
  },
  {
   "cell_type": "code",
   "execution_count": 237,
   "outputs": [],
   "source": [
    "def parse_transcript_by_speaker(transcript):\n",
    "    parsed_transcipt = []\n",
    "\n",
    "    for line in transcript:\n",
    "        if line.startswith(\"(PERSON\"):\n",
    "            match = re.match(r\"\\((PERSON.*)\\)(.*)\", line)\n",
    "            speaker, utterance = match.group(1), match.group(2)\n",
    "\n",
    "            parsed_transcipt.append({\"speaker\": speaker, \"utterance\": [utterance]})\n",
    "        elif len(parsed_transcipt) > 0:\n",
    "            parsed_transcipt[-1][\"utterance\"].append(line)\n",
    "\n",
    "    return parsed_transcipt"
   ],
   "metadata": {
    "collapsed": false,
    "pycharm": {
     "name": "#%%\n"
    }
   }
  },
  {
   "cell_type": "code",
   "execution_count": 238,
   "outputs": [],
   "source": [
    "def remove_tags(text):\n",
    "    return re.sub(\"<.*?>\", \"\", text)\n",
    "\n",
    "def tokenize(text):\n",
    "    ASR_STOPWORDS = {\"eh\", \"ehm\", \"hm\", \"uh\", \"uhm\", \"uhmm\", \"uuhm\", \"uhmuhm\", \"em\", \"eeh\", \"eeeh\", \"eeeeh\", \"eeeeeeh\", \"eehh\", \"eehm\", \"um\"}\n",
    "    tokenizer = RegexpTokenizer(r\"\\w+\")\n",
    "\n",
    "    return [word for word in tokenizer.tokenize(text) if word.lower() not in ASR_STOPWORDS]"
   ],
   "metadata": {
    "collapsed": false,
    "pycharm": {
     "name": "#%%\n"
    }
   }
  },
  {
   "cell_type": "code",
   "execution_count": 239,
   "outputs": [],
   "source": [
    "def normalize(transcript):\n",
    "    normalized_transcript = []\n",
    "\n",
    "    for line in transcript:\n",
    "        normalized_utterance = []\n",
    "\n",
    "        for sentence in line[\"utterance\"]:\n",
    "            normalized_sentence = remove_tags(sentence)\n",
    "            normalized_sentence = tokenize(normalized_sentence)\n",
    "\n",
    "            # Empty line -> delete\n",
    "            if len(normalized_sentence) > 0:\n",
    "                normalized_utterance.append(normalized_sentence)\n",
    "\n",
    "        if len(normalized_utterance) > 0:\n",
    "            normalized_transcript.append({\"speaker\": line[\"speaker\"], \"utterance\": normalized_utterance})\n",
    "\n",
    "    return normalized_transcript"
   ],
   "metadata": {
    "collapsed": false,
    "pycharm": {
     "name": "#%%\n"
    }
   }
  },
  {
   "cell_type": "code",
   "execution_count": 240,
   "outputs": [],
   "source": [
    "def preprocess_transcripts(transcripts):\n",
    "    preprocessed_transcripts = {}\n",
    "\n",
    "    for meeting_id, transcript in transcripts.items():\n",
    "        preprocessed_transcript = parse_transcript_by_speaker(transcript)\n",
    "        preprocessed_transcript = normalize(preprocessed_transcript)\n",
    "\n",
    "        preprocessed_transcripts[meeting_id] = preprocessed_transcript\n",
    "\n",
    "    return preprocessed_transcripts"
   ],
   "metadata": {
    "collapsed": false,
    "pycharm": {
     "name": "#%%\n"
    }
   }
  },
  {
   "cell_type": "code",
   "execution_count": 241,
   "outputs": [],
   "source": [
    "cs_train_preprocessed = preprocess_transcripts(cs_train)\n",
    "cs_dev_preprocessed = preprocess_transcripts(cs_dev)\n",
    "cs_test_preprocessed = preprocess_transcripts(cs_test)\n",
    "cs_test2_preprocessed = preprocess_transcripts(cs_test2)\n",
    "\n",
    "en_train_preprocessed = preprocess_transcripts(en_train)\n",
    "en_dev_preprocessed = preprocess_transcripts(en_dev)\n",
    "en_test_preprocessed = preprocess_transcripts(en_test)\n",
    "en_test2_preprocessed = preprocess_transcripts(en_test2)"
   ],
   "metadata": {
    "collapsed": false,
    "pycharm": {
     "name": "#%%\n"
    }
   }
  },
  {
   "cell_type": "code",
   "execution_count": 242,
   "outputs": [],
   "source": [
    "def save_preprocessed(preprocessed, output_dir, output_file):\n",
    "    os.makedirs(os.path.join(OUTPUT_DIR, output_dir), exist_ok=True)\n",
    "\n",
    "    with open(os.path.join(OUTPUT_DIR, output_dir, f\"{output_file}.json\"), \"w\") as f:\n",
    "        json.dump(preprocessed, f, ensure_ascii=False, indent=4)"
   ],
   "metadata": {
    "collapsed": false,
    "pycharm": {
     "name": "#%%\n"
    }
   }
  },
  {
   "cell_type": "code",
   "execution_count": 243,
   "outputs": [],
   "source": [
    "save_preprocessed(cs_train_preprocessed, \"cs\", TRAIN_DIR)\n",
    "save_preprocessed(cs_dev_preprocessed, \"cs\", DEV_DIR)\n",
    "save_preprocessed(cs_test_preprocessed, \"cs\", TEST_DIR)\n",
    "save_preprocessed(cs_test2_preprocessed, \"cs\", TEST2_DIR)\n",
    "\n",
    "save_preprocessed(en_train_preprocessed, \"en\", TRAIN_DIR)\n",
    "save_preprocessed(en_dev_preprocessed, \"en\", DEV_DIR)\n",
    "save_preprocessed(en_test_preprocessed, \"en\", TEST_DIR)\n",
    "save_preprocessed(en_test2_preprocessed, \"en\", TEST2_DIR)"
   ],
   "metadata": {
    "collapsed": false,
    "pycharm": {
     "name": "#%%\n"
    }
   }
  }
 ],
 "metadata": {
  "kernelspec": {
   "display_name": "Python 3",
   "language": "python",
   "name": "python3"
  },
  "language_info": {
   "codemirror_mode": {
    "name": "ipython",
    "version": 2
   },
   "file_extension": ".py",
   "mimetype": "text/x-python",
   "name": "python",
   "nbconvert_exporter": "python",
   "pygments_lexer": "ipython2",
   "version": "2.7.6"
  }
 },
 "nbformat": 4,
 "nbformat_minor": 0
}